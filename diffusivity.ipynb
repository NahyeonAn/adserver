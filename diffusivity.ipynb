{
 "cells": [
  {
   "cell_type": "code",
   "execution_count": null,
   "metadata": {},
   "outputs": [],
   "source": [
    "import numpy as np\n",
    "import pandas as pd\n",
    "import matplotlib.pyplot as plt\n",
    "\n",
    "import os\n"
   ]
  },
  {
   "cell_type": "code",
   "execution_count": null,
   "metadata": {},
   "outputs": [],
   "source": [
    "# %% Crop the simulation results \n",
    "def cropsim(targ_dir):\n",
    "    dir_targ_nam = targ_dir\n",
    "\n",
    "    basepath = os.getcwd()\n",
    "    os.chdir(basepath)\n",
    "    os.chdir(dir_targ_nam)\n",
    "\n",
    "    os.chdir('Output/System_0')\n",
    "    f_nam_list = os.listdir()\n",
    "    if \n",
    "    #print(f_nam_list)\n",
    "\n",
    "    prop_targ = '\\tAverage loading absolute [mol/kg frame'\n",
    "    n_prop_str = len(prop_targ)\n",
    "    uptake_list = []\n",
    "    for fn in f_nam_list:\n",
    "        ff = open(fn)\n",
    "        uptake_excess = -123.123\n",
    "        #prop_targ = '\\tAverage loading excess [mol/kg frame'\n",
    "        ff_txt = ff.readlines()\n",
    "        for ii in range(len(ff_txt)):\n",
    "            targ_txt = 'Finishing simulation'\n",
    "            len_txt = len(targ_txt)\n",
    "            if ff_txt[ii][:len_txt] == targ_txt:\n",
    "                ff_txt_fin = ff_txt[ii:]\n",
    "                break\n",
    "        for txx in ff_txt_fin[1000:]:\n",
    "            if txx[:n_prop_str] == prop_targ:\n",
    "                txt_spl = txx.split()\n",
    "                #print(txt_spl)\n",
    "                #print(txt_spl[5])\n",
    "                uptake_excess = float(txt_spl[5])\n",
    "                uptake_list.append(uptake_excess)\n",
    "    os.chdir(basepath)\n",
    "    return uptake_list"
   ]
  },
  {
   "cell_type": "code",
   "execution_count": null,
   "metadata": {},
   "outputs": [],
   "source": []
  },
  {
   "cell_type": "code",
   "execution_count": null,
   "metadata": {},
   "outputs": [],
   "source": []
  }
 ],
 "metadata": {
  "kernelspec": {
   "display_name": "Python 3.8.10 64-bit",
   "language": "python",
   "name": "python3"
  },
  "language_info": {
   "name": "python",
   "version": "3.8.10"
  },
  "orig_nbformat": 4,
  "vscode": {
   "interpreter": {
    "hash": "5c3523104aa55273f99c4b5d025d35dcbb5449d5931be794291001a991bf7011"
   }
  }
 },
 "nbformat": 4,
 "nbformat_minor": 2
}
