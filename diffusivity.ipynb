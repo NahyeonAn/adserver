{
 "cells": [
  {
   "cell_type": "code",
   "execution_count": 41,
   "metadata": {},
   "outputs": [
    {
     "name": "stdout",
     "output_type": "stream",
     "text": [
      "Collecting sklearn\n",
      "  Downloading sklearn-0.0.tar.gz (1.1 kB)\n",
      "  Preparing metadata (setup.py): started\n",
      "  Preparing metadata (setup.py): finished with status 'done'\n",
      "Collecting scikit-learn\n",
      "  Downloading scikit_learn-1.1.1-cp38-cp38-win_amd64.whl (7.3 MB)\n",
      "     ---------------------------------------- 7.3/7.3 MB 9.3 MB/s eta 0:00:00\n",
      "Requirement already satisfied: scipy>=1.3.2 in c:\\users\\yongho\\appdata\\local\\programs\\python\\python38\\lib\\site-packages (from scikit-learn->sklearn) (1.8.1)\n",
      "Collecting joblib>=1.0.0\n",
      "  Downloading joblib-1.1.0-py2.py3-none-any.whl (306 kB)\n",
      "     -------------------------------------- 307.0/307.0 kB 6.3 MB/s eta 0:00:00\n",
      "Collecting threadpoolctl>=2.0.0\n",
      "  Downloading threadpoolctl-3.1.0-py3-none-any.whl (14 kB)\n",
      "Requirement already satisfied: numpy>=1.17.3 in c:\\users\\yongho\\appdata\\local\\programs\\python\\python38\\lib\\site-packages (from scikit-learn->sklearn) (1.23.1)\n",
      "Using legacy 'setup.py install' for sklearn, since package 'wheel' is not installed.\n",
      "Installing collected packages: threadpoolctl, joblib, scikit-learn, sklearn\n",
      "  Running setup.py install for sklearn: started\n",
      "  Running setup.py install for sklearn: finished with status 'done'\n",
      "Successfully installed joblib-1.1.0 scikit-learn-1.1.1 sklearn-0.0 threadpoolctl-3.1.0\n",
      "\n",
      "[notice] A new release of pip available: 22.1.2 -> 22.2\n",
      "[notice] To update, run: python.exe -m pip install --upgrade pip\n"
     ]
    }
   ],
   "source": [
    "!pip install sklearn"
   ]
  },
  {
   "cell_type": "code",
   "execution_count": 47,
   "metadata": {},
   "outputs": [],
   "source": [
    "import numpy as np\n",
    "import pandas as pd\n",
    "import matplotlib.pyplot as plt\n",
    "from sklearn.linear_model import LinearRegression\n",
    "import os\n"
   ]
  },
  {
   "cell_type": "code",
   "execution_count": 50,
   "metadata": {},
   "outputs": [],
   "source": [
    "# %% Crop the simulation results \n",
    "def is_float(string):\n",
    "    \"\"\" True if given string is float else False\"\"\"\n",
    "    try:\n",
    "        return float(string)\n",
    "    except ValueError:\n",
    "        return False\n",
    "    \n",
    "def cropmsd(targ_dir):\n",
    "    dir_targ_nam = targ_dir\n",
    "\n",
    "    basepath = os.getcwd()\n",
    "    os.chdir(basepath)\n",
    "    os.chdir(dir_targ_nam)\n",
    "    # print(os.getcwd())\n",
    "    # os.chdir('MSDOrder\\System_0')\n",
    "    f_nam = 'msd_self_methane_0.dat'\n",
    "    \n",
    "    msd = []\n",
    "    time = []\n",
    "    with open(f_nam, 'r') as f:\n",
    "        d = f.readlines()\n",
    "        for i in d:\n",
    "            k = i.rstrip().split()\n",
    "            if is_float(k[1]):\n",
    "                msd.append(float(k[1])) \n",
    "                time.append(float(k[0]))\n",
    "    \n",
    "    msd = np.array([time, msd]).reshape(2, -1)\n",
    "    return msd\n",
    "\n",
    "def self_diff(msd):\n",
    "    dt = msd[0, 1] - msd[0, 0]\n",
    "    nums = len(msd)\n",
    "    dmsd = np.trapz(msd[1], dx=dt)/(3*(nums*dt)**2) # integral of msd/3/ in time\n",
    "    dmsd = dmsd*(1e-20)/(1e-12)\n",
    "    return dmsd\n",
    "\n",
    "def self_diff_test(msd):\n",
    "    reg = LinearRegression(fit_intercept = False).fit(msd[0].reshape(-1, 1), msd[1].reshape(-1, 1))\n",
    "    diff = reg.coef_[0]*1*0.0000000000000001/0.000000000001\n",
    "    return diff"
   ]
  },
  {
   "cell_type": "code",
   "execution_count": 51,
   "metadata": {},
   "outputs": [
    {
     "data": {
      "text/plain": [
       "array([0.00484565])"
      ]
     },
     "execution_count": 51,
     "metadata": {},
     "output_type": "execute_result"
    }
   ],
   "source": [
    "\n",
    "path_test = os.getcwd()\n",
    "cropmsd(path_test).shape\n",
    "self_diff_test(cropmsd(path_test))"
   ]
  },
  {
   "cell_type": "code",
   "execution_count": 14,
   "metadata": {},
   "outputs": [
    {
     "data": {
      "text/plain": [
       "'c:\\\\Users\\\\Yongho\\\\Documents\\\\GitHub\\\\adserver\\\\MSDOrderN\\\\System_0'"
      ]
     },
     "execution_count": 14,
     "metadata": {},
     "output_type": "execute_result"
    }
   ],
   "source": [
    "path_test"
   ]
  },
  {
   "cell_type": "code",
   "execution_count": null,
   "metadata": {},
   "outputs": [],
   "source": []
  }
 ],
 "metadata": {
  "kernelspec": {
   "display_name": "Python 3.8.10 64-bit",
   "language": "python",
   "name": "python3"
  },
  "language_info": {
   "codemirror_mode": {
    "name": "ipython",
    "version": 3
   },
   "file_extension": ".py",
   "mimetype": "text/x-python",
   "name": "python",
   "nbconvert_exporter": "python",
   "pygments_lexer": "ipython3",
   "version": "3.8.10"
  },
  "orig_nbformat": 4,
  "vscode": {
   "interpreter": {
    "hash": "5c3523104aa55273f99c4b5d025d35dcbb5449d5931be794291001a991bf7011"
   }
  }
 },
 "nbformat": 4,
 "nbformat_minor": 2
}
