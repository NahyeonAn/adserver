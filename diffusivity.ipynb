{
 "cells": [
  {
   "cell_type": "code",
   "execution_count": 77,
   "metadata": {},
   "outputs": [],
   "source": [
    "import numpy as np\n",
    "import pandas as pd\n",
    "import matplotlib.pyplot as plt\n",
    "\n",
    "import os\n"
   ]
  },
  {
   "cell_type": "code",
   "execution_count": 82,
   "metadata": {},
   "outputs": [],
   "source": [
    "# %% Crop the simulation results \n",
    "def is_float(string):\n",
    "    \"\"\" True if given string is float else False\"\"\"\n",
    "    try:\n",
    "        return float(string)\n",
    "    except ValueError:\n",
    "        return False\n",
    "    \n",
    "def cropmsd(targ_dir):\n",
    "    dir_targ_nam = targ_dir\n",
    "\n",
    "    basepath = os.getcwd()\n",
    "    os.chdir(basepath)\n",
    "    os.chdir(dir_targ_nam)\n",
    "\n",
    "    os.chdir('MSDOrderN\\System_0')\n",
    "    f_nam = 'msd_self_methane_0.dat'\n",
    "    \n",
    "    msd = []\n",
    "    time = []\n",
    "    with open(f_nam, 'r') as f:\n",
    "        d = f.readlines()\n",
    "        for i in d:\n",
    "            k = i.rstrip().split()\n",
    "            if is_float(k[1]):\n",
    "                msd.append(float(k[1])) \n",
    "                time.append(float(k[0]))\n",
    "    \n",
    "    msd = np.array([time, msd]).reshape(2, -1)\n",
    "    return msd\n",
    "\n",
    "def self_diff(msd):\n",
    "    dt = 0.0025\n",
    "    nums = len(msd)\n",
    "    dmsd = np.trapz(msd[1], dx=dt)/(3*(nums*dt)**2) # integral of msd/3/ in time\n",
    "    dmsd = dmsd*(10**-20)/(10**-12)\n",
    "    return dmsd"
   ]
  },
  {
   "cell_type": "code",
   "execution_count": 83,
   "metadata": {},
   "outputs": [
    {
     "data": {
      "text/plain": [
       "0.493460896042168"
      ]
     },
     "execution_count": 83,
     "metadata": {},
     "output_type": "execute_result"
    }
   ],
   "source": [
    "cropmsd(path_test).shape\n",
    "self_diff(cropsim(path_test))"
   ]
  },
  {
   "cell_type": "code",
   "execution_count": null,
   "metadata": {},
   "outputs": [],
   "source": []
  },
  {
   "cell_type": "code",
   "execution_count": null,
   "metadata": {},
   "outputs": [],
   "source": []
  }
 ],
 "metadata": {
  "kernelspec": {
   "display_name": "Python 3.8.10 64-bit",
   "language": "python",
   "name": "python3"
  },
  "language_info": {
   "codemirror_mode": {
    "name": "ipython",
    "version": 3
   },
   "file_extension": ".py",
   "mimetype": "text/x-python",
   "name": "python",
   "nbconvert_exporter": "python",
   "pygments_lexer": "ipython3",
   "version": "3.8.10"
  },
  "orig_nbformat": 4,
  "vscode": {
   "interpreter": {
    "hash": "5c3523104aa55273f99c4b5d025d35dcbb5449d5931be794291001a991bf7011"
   }
  }
 },
 "nbformat": 4,
 "nbformat_minor": 2
}
