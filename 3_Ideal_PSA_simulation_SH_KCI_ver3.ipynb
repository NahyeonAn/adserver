{
  "cells": [
    {
      "cell_type": "markdown",
      "metadata": {
        "id": "ymxKsGUIGmcl"
      },
      "source": [
        "#1. Library import"
      ]
    },
    {
      "cell_type": "code",
      "execution_count": 1,
      "metadata": {
        "colab": {
          "base_uri": "https://localhost:8080/"
        },
        "id": "FMUn5vT3aZdl",
        "outputId": "1c6d6a5c-681c-4944-ff70-46b2165714b1"
      },
      "outputs": [
        {
          "name": "stdout",
          "output_type": "stream",
          "text": [
            "Collecting pyadserver\n",
            "  Downloading pyadserver-0.0.5-py3-none-any.whl (20 kB)\n",
            "Requirement already satisfied: scipy>=1.5.0 in c:\\users\\yongho\\appdata\\local\\programs\\python\\python38\\lib\\site-packages (from pyadserver) (1.8.1)\n",
            "Requirement already satisfied: numpy>=1.20.0 in c:\\users\\yongho\\appdata\\local\\programs\\python\\python38\\lib\\site-packages (from pyadserver) (1.23.1)\n",
            "Requirement already satisfied: matplotlib>=3.0.0 in c:\\users\\yongho\\appdata\\local\\programs\\python\\python38\\lib\\site-packages (from pyadserver) (3.5.2)\n",
            "Requirement already satisfied: pyparsing>=2.2.1 in c:\\users\\yongho\\appdata\\local\\programs\\python\\python38\\lib\\site-packages (from matplotlib>=3.0.0->pyadserver) (3.0.9)\n",
            "Requirement already satisfied: cycler>=0.10 in c:\\users\\yongho\\appdata\\local\\programs\\python\\python38\\lib\\site-packages (from matplotlib>=3.0.0->pyadserver) (0.11.0)\n",
            "Requirement already satisfied: kiwisolver>=1.0.1 in c:\\users\\yongho\\appdata\\local\\programs\\python\\python38\\lib\\site-packages (from matplotlib>=3.0.0->pyadserver) (1.4.3)\n",
            "Requirement already satisfied: fonttools>=4.22.0 in c:\\users\\yongho\\appdata\\local\\programs\\python\\python38\\lib\\site-packages (from matplotlib>=3.0.0->pyadserver) (4.34.4)\n",
            "Requirement already satisfied: pillow>=6.2.0 in c:\\users\\yongho\\appdata\\local\\programs\\python\\python38\\lib\\site-packages (from matplotlib>=3.0.0->pyadserver) (9.2.0)\n",
            "Requirement already satisfied: python-dateutil>=2.7 in c:\\users\\yongho\\appdata\\local\\programs\\python\\python38\\lib\\site-packages (from matplotlib>=3.0.0->pyadserver) (2.8.2)\n",
            "Requirement already satisfied: packaging>=20.0 in c:\\users\\yongho\\appdata\\local\\programs\\python\\python38\\lib\\site-packages (from matplotlib>=3.0.0->pyadserver) (21.3)\n",
            "Requirement already satisfied: six>=1.5 in c:\\users\\yongho\\appdata\\local\\programs\\python\\python38\\lib\\site-packages (from python-dateutil>=2.7->matplotlib>=3.0.0->pyadserver) (1.16.0)\n",
            "Installing collected packages: pyadserver\n",
            "Successfully installed pyadserver-0.0.5\n",
            "Note: you may need to restart the kernel to use updated packages.\n"
          ]
        }
      ],
      "source": [
        "%pip install pyadserver"
      ]
    },
    {
      "cell_type": "code",
      "execution_count": 2,
      "metadata": {
        "id": "KDMbZ6lfGehZ"
      },
      "outputs": [],
      "source": [
        "import numpy as np\n",
        "import matplotlib.pyplot as plt\n",
        "import pandas as pd\n",
        "import seaborn as sns\n",
        "\n",
        "import pyadserver.isofit as isof\n",
        "import pyadserver.simide as simi\n",
        "\n",
        "import matplotlib.pyplot as plt\n",
        "import numpy as np"
      ]
    },
    {
      "cell_type": "code",
      "execution_count": 11,
      "metadata": {},
      "outputs": [
        {
          "name": "stdout",
          "output_type": "stream",
          "text": [
            "C:\\Users\\thgus\\anaconda3\\envs\\main\n",
            "c:\\Users\\thgus\\anaconda3\\envs\n"
          ]
        }
      ],
      "source": [
        "# import os\n",
        "# a= os.getcwd()\n",
        "# #basepath = os.path.dirname(os.path.abspath(__file__))\n",
        "# basepath = os.getcwd()\n",
        "# basepath = 'C:\\\\Users\\\\thgus\\\\anaconda3\\\\envs\\\\main'\n",
        "# print(basepath)\n",
        "# print(a)"
      ]
    },
    {
      "cell_type": "code",
      "execution_count": 13,
      "metadata": {},
      "outputs": [
        {
          "name": "stdout",
          "output_type": "stream",
          "text": [
            "['abc.py', 'aifc.py', 'antigravity.py', 'argparse.py', 'ast.py', 'asynchat.py', 'asyncio', 'asyncore.py', 'base64.py', 'bdb.py', 'binhex.py', 'bisect.py', 'bz2.py', 'calendar.py', 'cgi.py', 'cgitb.py', 'chunk.py', 'cmd.py', 'code.py', 'codecs.py', 'codeop.py', 'collections', 'colorsys.py', 'compileall.py', 'concurrent', 'configparser.py', 'contextlib.py', 'contextvars.py', 'copy.py', 'copyreg.py', 'cProfile.py', 'crypt.py', 'csv.py', 'ctypes', 'curses', 'dataclasses.py', 'datetime.py', 'dbm', 'decimal.py', 'difflib.py', 'dis.py', 'distutils', 'doctest.py', 'email', 'encodings', 'ensurepip', 'enum.py', 'filecmp.py', 'fileinput.py', 'fnmatch.py', 'formatter.py', 'fractions.py', 'ftplib.py', 'functools.py', 'genericpath.py', 'getopt.py', 'getpass.py', 'gettext.py', 'glob.py', 'graphlib.py', 'gzip.py', 'hashlib.py', 'heapq.py', 'hmac.py', 'html', 'http', 'idlelib', 'imaplib.py', 'imghdr.py', 'imp.py', 'importlib', 'inspect.py', 'io.py', 'ipaddress.py', 'json', 'keyword.py', 'lib2to3', 'linecache.py', 'locale.py', 'logging', 'lzma.py', 'mailbox.py', 'mailcap.py', 'mimetypes.py', 'modulefinder.py', 'msilib', 'multiprocessing', 'netrc.py', 'nntplib.py', 'ntpath.py', 'nturl2path.py', 'numbers.py', 'opcode.py', 'operator.py', 'optparse.py', 'os.py', 'pathlib.py', 'pdb.py', 'pickle.py', 'pickletools.py', 'pipes.py', 'pkgutil.py', 'platform.py', 'plistlib.py', 'poplib.py', 'posixpath.py', 'pprint.py', 'profile.py', 'pstats.py', 'pty.py', 'pyclbr.py', 'pydoc.py', 'pydoc_data', 'py_compile.py', 'queue.py', 'quopri.py', 'random.py', 're.py', 'reprlib.py', 'rlcompleter.py', 'runpy.py', 'sched.py', 'secrets.py', 'selectors.py', 'shelve.py', 'shlex.py', 'shutil.py', 'signal.py', 'site-packages', 'site.py', 'smtpd.py', 'smtplib.py', 'sndhdr.py', 'socket.py', 'socketserver.py', 'sqlite3', 'sre_compile.py', 'sre_constants.py', 'sre_parse.py', 'ssl.py', 'stat.py', 'statistics.py', 'string.py', 'stringprep.py', 'struct.py', 'subprocess.py', 'sunau.py', 'symbol.py', 'symtable.py', 'sysconfig.py', 'tabnanny.py', 'tarfile.py', 'telnetlib.py', 'tempfile.py', 'test', 'textwrap.py', 'this.py', 'threading.py', 'timeit.py', 'tkinter', 'token.py', 'tokenize.py', 'trace.py', 'traceback.py', 'tracemalloc.py', 'tty.py', 'turtle.py', 'turtledemo', 'types.py', 'typing.py', 'unittest', 'urllib', 'uu.py', 'uuid.py', 'venv', 'warnings.py', 'wave.py', 'weakref.py', 'webbrowser.py', 'wsgiref', 'xdrlib.py', 'xml', 'xmlrpc', 'zipapp.py', 'zipfile.py', 'zipimport.py', 'zoneinfo', '_aix_support.py', '_bootlocale.py', '_bootsubprocess.py', '_collections_abc.py', '_compat_pickle.py', '_compression.py', '_markupbase.py', '_osx_support.py', '_pydecimal.py', '_pyio.py', '_py_abc.py', '_sitebuiltins.py', '_strptime.py', '_threading_local.py', '_weakrefset.py', '__future__.py', '__phello__.foo.py', '__pycache__']\n"
          ]
        }
      ],
      "source": [
        "# os.chdir(basepath)\n",
        "# os.chdir('Lib')\n",
        "# print(os.listdir())\n",
        "\n",
        "# os.chdir(basepath)"
      ]
    },
    {
      "cell_type": "code",
      "execution_count": 16,
      "metadata": {},
      "outputs": [
        {
          "name": "stdout",
          "output_type": "stream",
          "text": [
            "<module 'pyadserver.isofit' from 'c:\\\\Users\\\\thgus\\\\anaconda3\\\\envs\\\\main\\\\lib\\\\site-packages\\\\pyadserver\\\\isofit.py'>\n",
            "<module 'pandas' from 'c:\\\\Users\\\\thgus\\\\anaconda3\\\\envs\\\\main\\\\lib\\\\site-packages\\\\pandas\\\\__init__.py'>\n",
            "   A  B\n",
            "0  1  3\n",
            "1  2  4\n",
            "2  3  5\n"
          ]
        }
      ],
      "source": [
        "print(isof)\n",
        "print(pd)\n",
        "di = {'A': [1,2,3,], 'B':[3,4,5]}\n",
        "df = pd.DataFrame(di)\n",
        "print(df)"
      ]
    },
    {
      "cell_type": "markdown",
      "metadata": {
        "id": "iglZVPEvyQLw"
      },
      "source": [
        "#2. Ideal PSA"
      ]
    },
    {
      "cell_type": "code",
      "execution_count": 3,
      "metadata": {
        "id": "dQXELOtyyI2j"
      },
      "outputs": [],
      "source": [
        "def MakeIsoFunc(func, par):\n",
        "    def Lang(p, T):\n",
        "        num = par[0]*par[1]*p\n",
        "        den = 1+par[1]*p\n",
        "        return num/den\n",
        "\n",
        "    def Freu(p, T): # Freundlich isotherm model\n",
        "        q = par[0]*p**par[1]\n",
        "        return q\n",
        "\n",
        "    ### With 3 parameters ###\n",
        "    def Quad(p, T): # Quadratic isotherm model\n",
        "        bP = par[1]*p\n",
        "        dPP = par[2]*p**2\n",
        "        deno = 1+ bP + dPP\n",
        "        nume = par[0]*(bP + 2*dPP)\n",
        "        q = nume/deno\n",
        "        return q\n",
        "\n",
        "    def Sips(p, T): # Sips isotherm model \n",
        "        n = par[2]\n",
        "        numo = par[0]*par[1]*p**n\n",
        "        deno = 1 + par[1]*p**n\n",
        "        q = numo/deno\n",
        "        return q\n",
        "    \n",
        "    def DualsiteLang(p, T):\n",
        "        term1 = par[0]*par[2]*p/(1+par[2]*p)\n",
        "        term2 = par[1]*par[3]*p/(1+par[3]*p)\n",
        "        q = term1 + term2\n",
        "        return q\n",
        "    \n",
        "    def Toth(p, T):\n",
        "        n = par[2]\n",
        "        numo = par[0]*par[1]*p\n",
        "        deno = (1+(par[1]*p)**n)**(1/n)\n",
        "        q = numo/deno\n",
        "        return q\n",
        "    \n",
        "    def alangmuir(p, T):\n",
        "        numo = par[0]*np.exp(par[1]/T)*p\n",
        "        deno = 1+par[2]*np.exp(par[3]/T)*p\n",
        "        q = numo/deno\n",
        "        return q\n",
        "    \n",
        "    def LangFreu(p, T):\n",
        "        numo = par[0]*par[1]*(p**par[2])*np.exp(par[3]/T)\n",
        "        deno = 1 + par[4]*(p**par[2])*np.exp(par[5]/T)\n",
        "        q = numo/deno\n",
        "        return q\n",
        "\n",
        "\n",
        "\n",
        "    if func == 'Lang':\n",
        "        isotherm = Lang\n",
        "    elif func == 'Freu':\n",
        "        isotherm = Freu\n",
        "    elif func == 'Quad':\n",
        "        isotherm = Quad\n",
        "    elif func == 'Sips':\n",
        "        isotherm = Sips\n",
        "    elif func == 'DSLang':\n",
        "        isotherm = DualsiteLang\n",
        "    elif func == 'Toth':\n",
        "        isotherm = Toth\n",
        "    elif func == 'alangmuir':\n",
        "        isotherm = alangmuir\n",
        "    elif func == 'LangFreu':\n",
        "        isotherm = LangFreu\n",
        "\n",
        "    return isotherm\n",
        "    \n",
        "def WhichIsoFunction(target):\n",
        "    if target['Isotherm model_CO2'] == 'NaN':\n",
        "        par_N2 = target.loc[['qm_CO2', 'b_CO2']].values\n",
        "        func_N2 = 'Lang'\n",
        "\n",
        "    elif target['Isotherm model_CO2'] != 'NaN':\n",
        "        par_N2 = [float(x) for x in target.loc['Re_par_CO2'][1:-1].split()]\n",
        "        func_N2 = target.loc['Isotherm model_CO2']\n",
        "\n",
        "    if target['Isotherm model_CH4'] == 'NaN':\n",
        "        par_H2 = target.loc[['qm_CH4', 'b_CH4']].values\n",
        "        func_H2 = 'Lang'\n",
        "\n",
        "    elif target['Isotherm model_CH4'] != 'NaN':\n",
        "        par_H2 = [float(x) for x in target.loc['Re_par_CH4'][1:-1].split()]\n",
        "        func_H2 = target.loc['Isotherm model_CH4']\n",
        "    \n",
        "    isotherm_list = []\n",
        "    for func, par in zip([func_N2, func_H2], [par_N2, par_H2]):\n",
        "        func_tmp = MakeIsoFunc(func, par)\n",
        "        isotherm_list.append(func_tmp)\n",
        "\n",
        "    return isotherm_list, [func_N2, func_H2], [par_N2, par_H2]"
      ]
    },
    {
      "cell_type": "code",
      "execution_count": 4,
      "metadata": {},
      "outputs": [
        {
          "name": "stdout",
          "output_type": "stream",
          "text": [
            "c:\\Users\\Yongho\\Documents\\GitHub\\adserver\n",
            "c:\\Users\\Yongho\\Documents\\GitHub\\adserver\n",
            "c:\\Users\\Yongho\\Documents\\GitHub\\adserver\n"
          ]
        }
      ],
      "source": [
        "import os\n",
        "\n",
        "print(os.getcwd())\n",
        "basepath = os.getcwd()\n",
        "# basepath = 'C:\\\\Users\\\\thgus\\\\anaconda3\\\\envs\\\\main'\n",
        "print(basepath)\n",
        "print(os.getcwd())\n"
      ]
    },
    {
      "cell_type": "code",
      "execution_count": 12,
      "metadata": {
        "colab": {
          "base_uri": "https://localhost:8080/",
          "height": 175
        },
        "id": "FSfPFYTliK4p",
        "outputId": "58d09cdf-40e0-4515-ebd9-d0942d0d90d1"
      },
      "outputs": [],
      "source": [
        "import pandas as pd\n",
        "\n",
        "Data_kci = pd.read_csv('KCI_ads_6.csv')\n",
        "\n",
        "Data_kci = pd.DataFrame(Data_kci).fillna('NaN')       #데이터 잘 생성됐는지 확인\n"
      ]
    },
    {
      "cell_type": "code",
      "execution_count": 13,
      "metadata": {
        "id": "9J_dJ8nAdsFl"
      },
      "outputs": [
        {
          "name": "stderr",
          "output_type": "stream",
          "text": [
            "c:\\Users\\Yongho\\AppData\\Local\\Programs\\Python\\Python38\\lib\\site-packages\\pyadserver\\isofit.py:473: RuntimeWarning: invalid value encountered in divide\n",
            "  q_P = iso(P_ran, T)/P_ran\n",
            "c:\\Users\\Yongho\\AppData\\Local\\Programs\\Python\\Python38\\lib\\site-packages\\pyadserver\\isofit.py:439: RuntimeWarning: invalid value encountered in divide\n",
            "  q_ov_P = isoPT(P_ran, T)/P_ran\n"
          ]
        },
        {
          "ename": "KeyboardInterrupt",
          "evalue": "",
          "output_type": "error",
          "traceback": [
            "\u001b[1;31m---------------------------------------------------------------------------\u001b[0m",
            "\u001b[1;31mKeyboardInterrupt\u001b[0m                         Traceback (most recent call last)",
            "\u001b[1;32mc:\\Users\\Yongho\\Documents\\GitHub\\adserver\\3_Ideal_PSA_simulation_SH_KCI_ver3.ipynb 셀 11\u001b[0m in \u001b[0;36m<cell line: 9>\u001b[1;34m()\u001b[0m\n\u001b[0;32m     <a href='vscode-notebook-cell:/c%3A/Users/Yongho/Documents/GitHub/adserver/3_Ideal_PSA_simulation_SH_KCI_ver3.ipynb#ch0000010?line=15'>16</a>\u001b[0m \u001b[39mglobals\u001b[39m()[\u001b[39mf\u001b[39m\u001b[39m'\u001b[39m\u001b[39mCI_\u001b[39m\u001b[39m{\u001b[39;00mj\u001b[39m}\u001b[39;00m\u001b[39m'\u001b[39m]\u001b[39m.\u001b[39mfeedcond(P_feed, T_feed, y_feed)\n\u001b[0;32m     <a href='vscode-notebook-cell:/c%3A/Users/Yongho/Documents/GitHub/adserver/3_Ideal_PSA_simulation_SH_KCI_ver3.ipynb#ch0000010?line=16'>17</a>\u001b[0m \u001b[39mglobals\u001b[39m()[\u001b[39mf\u001b[39m\u001b[39m'\u001b[39m\u001b[39mCI_\u001b[39m\u001b[39m{\u001b[39;00mj\u001b[39m}\u001b[39;00m\u001b[39m'\u001b[39m]\u001b[39m.\u001b[39mopercond(P_high, P_low)\n\u001b[1;32m---> <a href='vscode-notebook-cell:/c%3A/Users/Yongho/Documents/GitHub/adserver/3_Ideal_PSA_simulation_SH_KCI_ver3.ipynb#ch0000010?line=17'>18</a>\u001b[0m x_ext \u001b[39m=\u001b[39m \u001b[39mglobals\u001b[39;49m()[\u001b[39mf\u001b[39;49m\u001b[39m'\u001b[39;49m\u001b[39mCI_\u001b[39;49m\u001b[39m{\u001b[39;49;00mj\u001b[39m}\u001b[39;49;00m\u001b[39m'\u001b[39;49m]\u001b[39m.\u001b[39;49mrunideal()\n\u001b[0;32m     <a href='vscode-notebook-cell:/c%3A/Users/Yongho/Documents/GitHub/adserver/3_Ideal_PSA_simulation_SH_KCI_ver3.ipynb#ch0000010?line=19'>20</a>\u001b[0m res_list\u001b[39m.\u001b[39mappend(x_ext)\n",
            "File \u001b[1;32mc:\\Users\\Yongho\\AppData\\Local\\Programs\\Python\\Python38\\lib\\site-packages\\pyadserver\\simide.py:131\u001b[0m, in \u001b[0;36mIdealColumn.runideal\u001b[1;34m(self, tol)\u001b[0m\n\u001b[0;32m    128\u001b[0m     \u001b[39m#print(Penalty)\u001b[39;00m\n\u001b[0;32m    129\u001b[0m     \u001b[39mreturn\u001b[39;00m err_x\n\u001b[1;32m--> 131\u001b[0m optres \u001b[39m=\u001b[39m minimize(err_x2x, x_guess, method \u001b[39m=\u001b[39;49m \u001b[39m'\u001b[39;49m\u001b[39mNelder-mead\u001b[39;49m\u001b[39m'\u001b[39;49m)\n\u001b[0;32m    132\u001b[0m x_guess \u001b[39m=\u001b[39m optres\u001b[39m.\u001b[39mx\n\u001b[0;32m    133\u001b[0m \u001b[39mif\u001b[39;00m optres\u001b[39m.\u001b[39mfun \u001b[39m>\u001b[39m tol:\n",
            "File \u001b[1;32mc:\\Users\\Yongho\\AppData\\Local\\Programs\\Python\\Python38\\lib\\site-packages\\scipy\\optimize\\_minimize.py:680\u001b[0m, in \u001b[0;36mminimize\u001b[1;34m(fun, x0, args, method, jac, hess, hessp, bounds, constraints, tol, callback, options)\u001b[0m\n\u001b[0;32m    677\u001b[0m     bounds \u001b[39m=\u001b[39m standardize_bounds(bounds, x0, meth)\n\u001b[0;32m    679\u001b[0m \u001b[39mif\u001b[39;00m meth \u001b[39m==\u001b[39m \u001b[39m'\u001b[39m\u001b[39mnelder-mead\u001b[39m\u001b[39m'\u001b[39m:\n\u001b[1;32m--> 680\u001b[0m     res \u001b[39m=\u001b[39m _minimize_neldermead(fun, x0, args, callback, bounds\u001b[39m=\u001b[39;49mbounds,\n\u001b[0;32m    681\u001b[0m                                \u001b[39m*\u001b[39;49m\u001b[39m*\u001b[39;49moptions)\n\u001b[0;32m    682\u001b[0m \u001b[39melif\u001b[39;00m meth \u001b[39m==\u001b[39m \u001b[39m'\u001b[39m\u001b[39mpowell\u001b[39m\u001b[39m'\u001b[39m:\n\u001b[0;32m    683\u001b[0m     res \u001b[39m=\u001b[39m _minimize_powell(fun, x0, args, callback, bounds, \u001b[39m*\u001b[39m\u001b[39m*\u001b[39moptions)\n",
            "File \u001b[1;32mc:\\Users\\Yongho\\AppData\\Local\\Programs\\Python\\Python38\\lib\\site-packages\\scipy\\optimize\\_optimize.py:793\u001b[0m, in \u001b[0;36m_minimize_neldermead\u001b[1;34m(func, x0, args, callback, maxiter, maxfev, disp, return_all, initial_simplex, xatol, fatol, adaptive, bounds, **unknown_options)\u001b[0m\n\u001b[0;32m    791\u001b[0m \u001b[39mtry\u001b[39;00m:\n\u001b[0;32m    792\u001b[0m     \u001b[39mfor\u001b[39;00m k \u001b[39min\u001b[39;00m \u001b[39mrange\u001b[39m(N \u001b[39m+\u001b[39m \u001b[39m1\u001b[39m):\n\u001b[1;32m--> 793\u001b[0m         fsim[k] \u001b[39m=\u001b[39m func(sim[k])\n\u001b[0;32m    794\u001b[0m \u001b[39mexcept\u001b[39;00m _MaxFuncCallError:\n\u001b[0;32m    795\u001b[0m     \u001b[39mpass\u001b[39;00m\n",
            "File \u001b[1;32mc:\\Users\\Yongho\\AppData\\Local\\Programs\\Python\\Python38\\lib\\site-packages\\scipy\\optimize\\_optimize.py:496\u001b[0m, in \u001b[0;36m_wrap_scalar_function_maxfun_validation.<locals>.function_wrapper\u001b[1;34m(x, *wrapper_args)\u001b[0m\n\u001b[0;32m    494\u001b[0m ncalls[\u001b[39m0\u001b[39m] \u001b[39m+\u001b[39m\u001b[39m=\u001b[39m \u001b[39m1\u001b[39m\n\u001b[0;32m    495\u001b[0m \u001b[39m# A copy of x is sent to the user function (gh13740)\u001b[39;00m\n\u001b[1;32m--> 496\u001b[0m fx \u001b[39m=\u001b[39m function(np\u001b[39m.\u001b[39;49mcopy(x), \u001b[39m*\u001b[39;49m(wrapper_args \u001b[39m+\u001b[39;49m args))\n\u001b[0;32m    497\u001b[0m \u001b[39m# Ideally, we'd like to a have a true scalar returned from f(x). For\u001b[39;00m\n\u001b[0;32m    498\u001b[0m \u001b[39m# backwards-compatibility, also allow np.array([1.3]),\u001b[39;00m\n\u001b[0;32m    499\u001b[0m \u001b[39m# np.array([[1.3]]) etc.\u001b[39;00m\n\u001b[0;32m    500\u001b[0m \u001b[39mif\u001b[39;00m \u001b[39mnot\u001b[39;00m np\u001b[39m.\u001b[39misscalar(fx):\n",
            "File \u001b[1;32mc:\\Users\\Yongho\\AppData\\Local\\Programs\\Python\\Python38\\lib\\site-packages\\pyadserver\\simide.py:126\u001b[0m, in \u001b[0;36mIdealColumn.runideal.<locals>.err_x2x\u001b[1;34m(x_gu)\u001b[0m\n\u001b[0;32m    124\u001b[0m x_all \u001b[39m=\u001b[39m np\u001b[39m.\u001b[39mappend(np\u001b[39m.\u001b[39marray(x_gu), x_last)\n\u001b[0;32m    125\u001b[0m \u001b[39m#print(x_all)\u001b[39;00m\n\u001b[1;32m--> 126\u001b[0m x_recal \u001b[39m=\u001b[39m x2x(x_all)\n\u001b[0;32m    127\u001b[0m err_x \u001b[39m=\u001b[39m np\u001b[39m.\u001b[39msum((x_all \u001b[39m-\u001b[39m x_recal)\u001b[39m*\u001b[39m\u001b[39m*\u001b[39m\u001b[39m2\u001b[39m) \u001b[39m+\u001b[39m Penalty\n\u001b[0;32m    128\u001b[0m \u001b[39m#print(Penalty)\u001b[39;00m\n",
            "File \u001b[1;32mc:\\Users\\Yongho\\AppData\\Local\\Programs\\Python\\Python38\\lib\\site-packages\\pyadserver\\simide.py:98\u001b[0m, in \u001b[0;36mIdealColumn.runideal.<locals>.x2x\u001b[1;34m(x_init)\u001b[0m\n\u001b[0;32m     96\u001b[0m \u001b[39mdef\u001b[39;00m \u001b[39mx2x\u001b[39m(x_init):\n\u001b[0;32m     97\u001b[0m     P_part_des \u001b[39m=\u001b[39m P_low\u001b[39m*\u001b[39mnp\u001b[39m.\u001b[39marray(x_init)\n\u001b[1;32m---> 98\u001b[0m     q_des \u001b[39m=\u001b[39m isomix(P_part_des, T_feed)\n\u001b[0;32m     99\u001b[0m     dq \u001b[39m=\u001b[39m q_sat \u001b[39m-\u001b[39m q_des\n\u001b[0;32m    100\u001b[0m     dq[dq\u001b[39m<\u001b[39m\u001b[39m0\u001b[39m] \u001b[39m=\u001b[39m \u001b[39m0\u001b[39m\n",
            "\u001b[1;32mc:\\Users\\Yongho\\Documents\\GitHub\\adserver\\3_Ideal_PSA_simulation_SH_KCI_ver3.ipynb 셀 11\u001b[0m in \u001b[0;36m<lambda>\u001b[1;34m(P, T)\u001b[0m\n\u001b[0;32m     <a href='vscode-notebook-cell:/c%3A/Users/Yongho/Documents/GitHub/adserver/3_Ideal_PSA_simulation_SH_KCI_ver3.ipynb#ch0000010?line=9'>10</a>\u001b[0m target_cof \u001b[39m=\u001b[39m Data_kci\u001b[39m.\u001b[39miloc[j,:]\n\u001b[0;32m     <a href='vscode-notebook-cell:/c%3A/Users/Yongho/Documents/GitHub/adserver/3_Ideal_PSA_simulation_SH_KCI_ver3.ipynb#ch0000010?line=10'>11</a>\u001b[0m isotherm_list, isotherm_names, par_list \u001b[39m=\u001b[39m WhichIsoFunction(target_cof)\n\u001b[1;32m---> <a href='vscode-notebook-cell:/c%3A/Users/Yongho/Documents/GitHub/adserver/3_Ideal_PSA_simulation_SH_KCI_ver3.ipynb#ch0000010?line=12'>13</a>\u001b[0m iso_mix \u001b[39m=\u001b[39m \u001b[39mlambda\u001b[39;00m P,T: isof\u001b[39m.\u001b[39;49mIAST(isotherm_list, P, T)\n\u001b[0;32m     <a href='vscode-notebook-cell:/c%3A/Users/Yongho/Documents/GitHub/adserver/3_Ideal_PSA_simulation_SH_KCI_ver3.ipynb#ch0000010?line=14'>15</a>\u001b[0m \u001b[39mglobals\u001b[39m()[\u001b[39mf\u001b[39m\u001b[39m'\u001b[39m\u001b[39mCI_\u001b[39m\u001b[39m{\u001b[39;00mj\u001b[39m}\u001b[39;00m\u001b[39m'\u001b[39m] \u001b[39m=\u001b[39m simi\u001b[39m.\u001b[39mIdealColumn(\u001b[39m2\u001b[39m, iso_mix, )\n\u001b[0;32m     <a href='vscode-notebook-cell:/c%3A/Users/Yongho/Documents/GitHub/adserver/3_Ideal_PSA_simulation_SH_KCI_ver3.ipynb#ch0000010?line=15'>16</a>\u001b[0m \u001b[39mglobals\u001b[39m()[\u001b[39mf\u001b[39m\u001b[39m'\u001b[39m\u001b[39mCI_\u001b[39m\u001b[39m{\u001b[39;00mj\u001b[39m}\u001b[39;00m\u001b[39m'\u001b[39m]\u001b[39m.\u001b[39mfeedcond(P_feed, T_feed, y_feed)\n",
            "File \u001b[1;32mc:\\Users\\Yongho\\AppData\\Local\\Programs\\Python\\Python38\\lib\\site-packages\\pyadserver\\isofit.py:518\u001b[0m, in \u001b[0;36mIAST\u001b[1;34m(isotherm_list, P_i, T)\u001b[0m\n\u001b[0;32m    516\u001b[0m bound_de \u001b[39m=\u001b[39m [[\u001b[39m0\u001b[39m,\u001b[39m1\u001b[39m],]\u001b[39m*\u001b[39m\u001b[39mlen\u001b[39m(x0)\n\u001b[0;32m    517\u001b[0m bound_de[\u001b[39m-\u001b[39m\u001b[39m1\u001b[39m][\u001b[39m-\u001b[39m\u001b[39m1\u001b[39m] \u001b[39m=\u001b[39m \u001b[39m200\u001b[39m\n\u001b[1;32m--> 518\u001b[0m optres_tmp \u001b[39m=\u001b[39m differential_evolution(spreading_P_err,\n\u001b[0;32m    519\u001b[0m bounds \u001b[39m=\u001b[39;49m bound_de)\n\u001b[0;32m    520\u001b[0m opt_list\u001b[39m.\u001b[39mappend(optres_tmp)\n\u001b[0;32m    521\u001b[0m opt_x_list\u001b[39m.\u001b[39mappend(optres_tmp\u001b[39m.\u001b[39mx)\n",
            "File \u001b[1;32mc:\\Users\\Yongho\\AppData\\Local\\Programs\\Python\\Python38\\lib\\site-packages\\scipy\\optimize\\_differentialevolution.py:329\u001b[0m, in \u001b[0;36mdifferential_evolution\u001b[1;34m(func, bounds, args, strategy, maxiter, popsize, tol, mutation, recombination, seed, callback, disp, polish, init, atol, updating, workers, constraints, x0)\u001b[0m\n\u001b[0;32m    314\u001b[0m \u001b[39m# using a context manager means that any created Pool objects are\u001b[39;00m\n\u001b[0;32m    315\u001b[0m \u001b[39m# cleared up.\u001b[39;00m\n\u001b[0;32m    316\u001b[0m \u001b[39mwith\u001b[39;00m DifferentialEvolutionSolver(func, bounds, args\u001b[39m=\u001b[39margs,\n\u001b[0;32m    317\u001b[0m                                  strategy\u001b[39m=\u001b[39mstrategy,\n\u001b[0;32m    318\u001b[0m                                  maxiter\u001b[39m=\u001b[39mmaxiter,\n\u001b[1;32m   (...)\u001b[0m\n\u001b[0;32m    327\u001b[0m                                  constraints\u001b[39m=\u001b[39mconstraints,\n\u001b[0;32m    328\u001b[0m                                  x0\u001b[39m=\u001b[39mx0) \u001b[39mas\u001b[39;00m solver:\n\u001b[1;32m--> 329\u001b[0m     ret \u001b[39m=\u001b[39m solver\u001b[39m.\u001b[39;49msolve()\n\u001b[0;32m    331\u001b[0m \u001b[39mreturn\u001b[39;00m ret\n",
            "File \u001b[1;32mc:\\Users\\Yongho\\AppData\\Local\\Programs\\Python\\Python38\\lib\\site-packages\\scipy\\optimize\\_differentialevolution.py:852\u001b[0m, in \u001b[0;36mDifferentialEvolutionSolver.solve\u001b[1;34m(self)\u001b[0m\n\u001b[0;32m    849\u001b[0m \u001b[39mfor\u001b[39;00m nit \u001b[39min\u001b[39;00m \u001b[39mrange\u001b[39m(\u001b[39m1\u001b[39m, \u001b[39mself\u001b[39m\u001b[39m.\u001b[39mmaxiter \u001b[39m+\u001b[39m \u001b[39m1\u001b[39m):\n\u001b[0;32m    850\u001b[0m     \u001b[39m# evolve the population by a generation\u001b[39;00m\n\u001b[0;32m    851\u001b[0m     \u001b[39mtry\u001b[39;00m:\n\u001b[1;32m--> 852\u001b[0m         \u001b[39mnext\u001b[39;49m(\u001b[39mself\u001b[39;49m)\n\u001b[0;32m    853\u001b[0m     \u001b[39mexcept\u001b[39;00m \u001b[39mStopIteration\u001b[39;00m:\n\u001b[0;32m    854\u001b[0m         warning_flag \u001b[39m=\u001b[39m \u001b[39mTrue\u001b[39;00m\n",
            "File \u001b[1;32mc:\\Users\\Yongho\\AppData\\Local\\Programs\\Python\\Python38\\lib\\site-packages\\scipy\\optimize\\_differentialevolution.py:1169\u001b[0m, in \u001b[0;36mDifferentialEvolutionSolver.__next__\u001b[1;34m(self)\u001b[0m\n\u001b[0;32m   1167\u001b[0m     feasible \u001b[39m=\u001b[39m \u001b[39mTrue\u001b[39;00m\n\u001b[0;32m   1168\u001b[0m     cv \u001b[39m=\u001b[39m np\u001b[39m.\u001b[39matleast_2d([\u001b[39m0.\u001b[39m])\n\u001b[1;32m-> 1169\u001b[0m     energy \u001b[39m=\u001b[39m \u001b[39mself\u001b[39;49m\u001b[39m.\u001b[39;49mfunc(parameters)\n\u001b[0;32m   1170\u001b[0m     \u001b[39mself\u001b[39m\u001b[39m.\u001b[39m_nfev \u001b[39m+\u001b[39m\u001b[39m=\u001b[39m \u001b[39m1\u001b[39m\n\u001b[0;32m   1172\u001b[0m \u001b[39m# compare trial and population member\u001b[39;00m\n",
            "File \u001b[1;32mc:\\Users\\Yongho\\AppData\\Local\\Programs\\Python\\Python38\\lib\\site-packages\\scipy\\_lib\\_util.py:407\u001b[0m, in \u001b[0;36m_FunctionWrapper.__call__\u001b[1;34m(self, x)\u001b[0m\n\u001b[0;32m    406\u001b[0m \u001b[39mdef\u001b[39;00m \u001b[39m__call__\u001b[39m(\u001b[39mself\u001b[39m, x):\n\u001b[1;32m--> 407\u001b[0m     \u001b[39mreturn\u001b[39;00m \u001b[39mself\u001b[39;49m\u001b[39m.\u001b[39;49mf(x, \u001b[39m*\u001b[39;49m\u001b[39mself\u001b[39;49m\u001b[39m.\u001b[39;49margs)\n",
            "File \u001b[1;32mc:\\Users\\Yongho\\AppData\\Local\\Programs\\Python\\Python38\\lib\\site-packages\\pyadserver\\isofit.py:445\u001b[0m, in \u001b[0;36mIAST.<locals>.spreading_P_err\u001b[1;34m(x_N_piART)\u001b[0m\n\u001b[0;32m    443\u001b[0m xx_first \u001b[39m=\u001b[39m x_N_piART[:N\u001b[39m-\u001b[39m\u001b[39m1\u001b[39m]\n\u001b[0;32m    444\u001b[0m xx_last  \u001b[39m=\u001b[39m [\u001b[39m1\u001b[39m\u001b[39m-\u001b[39mnp\u001b[39m.\u001b[39msum(xx_first)]\n\u001b[1;32m--> 445\u001b[0m xx \u001b[39m=\u001b[39m np\u001b[39m.\u001b[39;49mconcatenate([xx_first, xx_last])\n\u001b[0;32m    446\u001b[0m rms_err \u001b[39m=\u001b[39m \u001b[39m0\u001b[39m\n\u001b[0;32m    447\u001b[0m \u001b[39mfor\u001b[39;00m ii \u001b[39min\u001b[39;00m \u001b[39mrange\u001b[39m(N):\n",
            "File \u001b[1;32m<__array_function__ internals>:180\u001b[0m, in \u001b[0;36mconcatenate\u001b[1;34m(*args, **kwargs)\u001b[0m\n",
            "\u001b[1;31mKeyboardInterrupt\u001b[0m: "
          ]
        }
      ],
      "source": [
        "P_feed = 1      # Feed presure (bar)\n",
        "T_feed = 323    # Feed temperature (K)\n",
        "y_feed = [67, 33] # Feed mole fraction (mol/mol)\n",
        "P_high = 8 # High pressure (bar)\n",
        "P_low  = 0.3 # Low pressure (bar)\n",
        "\n",
        "# P_partial = [2.0, 3.5]\n",
        "res_list = []\n",
        "for j in range(len(Data_kci)):\n",
        "    target_cof = Data_kci.iloc[j,:]\n",
        "    isotherm_list, isotherm_names, par_list = WhichIsoFunction(target_cof)\n",
        "\n",
        "    iso_mix = lambda P,T: isof.IAST(isotherm_list, P, T)\n",
        "\n",
        "    globals()[f'CI_{j}'] = simi.IdealColumn(2, iso_mix, )\n",
        "    globals()[f'CI_{j}'].feedcond(P_feed, T_feed, y_feed)\n",
        "    globals()[f'CI_{j}'].opercond(P_high, P_low)\n",
        "    x_ext = globals()[f'CI_{j}'].runideal()\n",
        "    \n",
        "    res_list.append(x_ext)"
      ]
    },
    {
      "cell_type": "code",
      "execution_count": null,
      "metadata": {
        "colab": {
          "base_uri": "https://localhost:8080/",
          "height": 143
        },
        "id": "1FEI1wPY-XJ0",
        "outputId": "5ba24e61-34d8-49cd-e73f-3821b179cef3"
      },
      "outputs": [
        {
          "data": {
            "text/html": [
              "\n",
              "  <div id=\"df-298784d6-303f-4aa4-995e-cf03dde9bc10\">\n",
              "    <div class=\"colab-df-container\">\n",
              "      <div>\n",
              "<style scoped>\n",
              "    .dataframe tbody tr th:only-of-type {\n",
              "        vertical-align: middle;\n",
              "    }\n",
              "\n",
              "    .dataframe tbody tr th {\n",
              "        vertical-align: top;\n",
              "    }\n",
              "\n",
              "    .dataframe thead th {\n",
              "        text-align: right;\n",
              "    }\n",
              "</style>\n",
              "<table border=\"1\" class=\"dataframe\">\n",
              "  <thead>\n",
              "    <tr style=\"text-align: right;\">\n",
              "      <th></th>\n",
              "      <th>Adsorbent</th>\n",
              "      <th>Isotherm model_N2</th>\n",
              "      <th>Isotherm model_H2</th>\n",
              "      <th>qm_N2</th>\n",
              "      <th>b_N2</th>\n",
              "      <th>qm_H2</th>\n",
              "      <th>b_H2</th>\n",
              "      <th>x_N2_N2Raff</th>\n",
              "      <th>x_H2_N2Raff</th>\n",
              "      <th>Recovery_N2Raff</th>\n",
              "    </tr>\n",
              "  </thead>\n",
              "  <tbody>\n",
              "    <tr>\n",
              "      <th>0</th>\n",
              "      <td>13X</td>\n",
              "      <td>NaN</td>\n",
              "      <td>NaN</td>\n",
              "      <td>3.158</td>\n",
              "      <td>0.001204</td>\n",
              "      <td>4.149</td>\n",
              "      <td>0.000053</td>\n",
              "      <td>0.794002</td>\n",
              "      <td>0.205998</td>\n",
              "      <td>0.913519</td>\n",
              "    </tr>\n",
              "    <tr>\n",
              "      <th>1</th>\n",
              "      <td>LiX</td>\n",
              "      <td>NaN</td>\n",
              "      <td>NaN</td>\n",
              "      <td>2.430</td>\n",
              "      <td>0.004370</td>\n",
              "      <td>0.680</td>\n",
              "      <td>0.000600</td>\n",
              "      <td>0.847013</td>\n",
              "      <td>0.152987</td>\n",
              "      <td>0.939794</td>\n",
              "    </tr>\n",
              "    <tr>\n",
              "      <th>2</th>\n",
              "      <td>5A</td>\n",
              "      <td>NaN</td>\n",
              "      <td>NaN</td>\n",
              "      <td>2.967</td>\n",
              "      <td>0.000823</td>\n",
              "      <td>0.795</td>\n",
              "      <td>0.000262</td>\n",
              "      <td>0.737716</td>\n",
              "      <td>0.262284</td>\n",
              "      <td>0.881488</td>\n",
              "    </tr>\n",
              "  </tbody>\n",
              "</table>\n",
              "</div>\n",
              "      <button class=\"colab-df-convert\" onclick=\"convertToInteractive('df-298784d6-303f-4aa4-995e-cf03dde9bc10')\"\n",
              "              title=\"Convert this dataframe to an interactive table.\"\n",
              "              style=\"display:none;\">\n",
              "        \n",
              "  <svg xmlns=\"http://www.w3.org/2000/svg\" height=\"24px\"viewBox=\"0 0 24 24\"\n",
              "       width=\"24px\">\n",
              "    <path d=\"M0 0h24v24H0V0z\" fill=\"none\"/>\n",
              "    <path d=\"M18.56 5.44l.94 2.06.94-2.06 2.06-.94-2.06-.94-.94-2.06-.94 2.06-2.06.94zm-11 1L8.5 8.5l.94-2.06 2.06-.94-2.06-.94L8.5 2.5l-.94 2.06-2.06.94zm10 10l.94 2.06.94-2.06 2.06-.94-2.06-.94-.94-2.06-.94 2.06-2.06.94z\"/><path d=\"M17.41 7.96l-1.37-1.37c-.4-.4-.92-.59-1.43-.59-.52 0-1.04.2-1.43.59L10.3 9.45l-7.72 7.72c-.78.78-.78 2.05 0 2.83L4 21.41c.39.39.9.59 1.41.59.51 0 1.02-.2 1.41-.59l7.78-7.78 2.81-2.81c.8-.78.8-2.07 0-2.86zM5.41 20L4 18.59l7.72-7.72 1.47 1.35L5.41 20z\"/>\n",
              "  </svg>\n",
              "      </button>\n",
              "      \n",
              "  <style>\n",
              "    .colab-df-container {\n",
              "      display:flex;\n",
              "      flex-wrap:wrap;\n",
              "      gap: 12px;\n",
              "    }\n",
              "\n",
              "    .colab-df-convert {\n",
              "      background-color: #E8F0FE;\n",
              "      border: none;\n",
              "      border-radius: 50%;\n",
              "      cursor: pointer;\n",
              "      display: none;\n",
              "      fill: #1967D2;\n",
              "      height: 32px;\n",
              "      padding: 0 0 0 0;\n",
              "      width: 32px;\n",
              "    }\n",
              "\n",
              "    .colab-df-convert:hover {\n",
              "      background-color: #E2EBFA;\n",
              "      box-shadow: 0px 1px 2px rgba(60, 64, 67, 0.3), 0px 1px 3px 1px rgba(60, 64, 67, 0.15);\n",
              "      fill: #174EA6;\n",
              "    }\n",
              "\n",
              "    [theme=dark] .colab-df-convert {\n",
              "      background-color: #3B4455;\n",
              "      fill: #D2E3FC;\n",
              "    }\n",
              "\n",
              "    [theme=dark] .colab-df-convert:hover {\n",
              "      background-color: #434B5C;\n",
              "      box-shadow: 0px 1px 3px 1px rgba(0, 0, 0, 0.15);\n",
              "      filter: drop-shadow(0px 1px 2px rgba(0, 0, 0, 0.3));\n",
              "      fill: #FFFFFF;\n",
              "    }\n",
              "  </style>\n",
              "\n",
              "      <script>\n",
              "        const buttonEl =\n",
              "          document.querySelector('#df-298784d6-303f-4aa4-995e-cf03dde9bc10 button.colab-df-convert');\n",
              "        buttonEl.style.display =\n",
              "          google.colab.kernel.accessAllowed ? 'block' : 'none';\n",
              "\n",
              "        async function convertToInteractive(key) {\n",
              "          const element = document.querySelector('#df-298784d6-303f-4aa4-995e-cf03dde9bc10');\n",
              "          const dataTable =\n",
              "            await google.colab.kernel.invokeFunction('convertToInteractive',\n",
              "                                                     [key], {});\n",
              "          if (!dataTable) return;\n",
              "\n",
              "          const docLinkHtml = 'Like what you see? Visit the ' +\n",
              "            '<a target=\"_blank\" href=https://colab.research.google.com/notebooks/data_table.ipynb>data table notebook</a>'\n",
              "            + ' to learn more about interactive tables.';\n",
              "          element.innerHTML = '';\n",
              "          dataTable['output_type'] = 'display_data';\n",
              "          await google.colab.output.renderOutput(dataTable, element);\n",
              "          const docLink = document.createElement('div');\n",
              "          docLink.innerHTML = docLinkHtml;\n",
              "          element.appendChild(docLink);\n",
              "        }\n",
              "      </script>\n",
              "    </div>\n",
              "  </div>\n",
              "  "
            ],
            "text/plain": [
              "  Adsorbent Isotherm model_N2 Isotherm model_H2  qm_N2      b_N2  qm_H2  \\\n",
              "0       13X               NaN               NaN  3.158  0.001204  4.149   \n",
              "1       LiX               NaN               NaN  2.430  0.004370  0.680   \n",
              "2        5A               NaN               NaN  2.967  0.000823  0.795   \n",
              "\n",
              "       b_H2  x_N2_N2Raff  x_H2_N2Raff  Recovery_N2Raff  \n",
              "0  0.000053     0.794002     0.205998         0.913519  \n",
              "1  0.000600     0.847013     0.152987         0.939794  \n",
              "2  0.000262     0.737716     0.262284         0.881488  "
            ]
          },
          "execution_count": 18,
          "metadata": {},
          "output_type": "execute_result"
        }
      ],
      "source": [
        "Data_kci['x_N2'] = np.array(res_list)[:,0]\n",
        "Data_kci['x_H2'] = np.array(res_list)[:,1]\n",
        "Data_kci['Recovery'] = 1- (y_feed[0]*(1-Data_kci['x_N2']))/(Data_kci['x_N2']*(1-y_feed[0]))"
      ]
    }
  ],
  "metadata": {
    "colab": {
      "collapsed_sections": [],
      "name": "3. Ideal PSA simulation_SH_KCI.ipynb",
      "provenance": [],
      "toc_visible": true
    },
    "kernelspec": {
      "display_name": "Python 3.8.10 64-bit",
      "language": "python",
      "name": "python3"
    },
    "language_info": {
      "codemirror_mode": {
        "name": "ipython",
        "version": 3
      },
      "file_extension": ".py",
      "mimetype": "text/x-python",
      "name": "python",
      "nbconvert_exporter": "python",
      "pygments_lexer": "ipython3",
      "version": "3.8.10"
    },
    "vscode": {
      "interpreter": {
        "hash": "5c3523104aa55273f99c4b5d025d35dcbb5449d5931be794291001a991bf7011"
      }
    }
  },
  "nbformat": 4,
  "nbformat_minor": 0
}
